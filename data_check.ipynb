{
 "cells": [
  {
   "cell_type": "markdown",
   "metadata": {},
   "source": [
    "# Data exploration"
   ]
  },
  {
   "cell_type": "code",
   "execution_count": 1,
   "metadata": {},
   "outputs": [],
   "source": [
    "import os\n",
    "import numpy as np\n",
    "from scipy.io import wavfile"
   ]
  },
  {
   "cell_type": "code",
   "execution_count": 2,
   "metadata": {},
   "outputs": [],
   "source": [
    "data_path = os.path.join('.', 'data', 'features')\n",
    "sub = '01'\n",
    "\n",
    "# Load data\n",
    "feat_names = np.load(os.path.join(data_path, f'sub-{sub}_feat_names.npy'))\n",
    "feat = np.load(os.path.join(data_path, f'sub-{sub}_feat.npy'))\n",
    "procWords = np.load(os.path.join(data_path, f'sub-{sub}_procWords.npy'))\n",
    "spec = np.load(os.path.join(data_path, f'sub-{sub}_spec.npy'))\n",
    "\n",
    "# load a WAV file\n",
    "audio_file_path = os.path.join(data_path, f'sub-{sub}_orig_audio.wav')\n",
    "sample_rate, orig_audio = wavfile.read(audio_file_path)"
   ]
  },
  {
   "cell_type": "code",
   "execution_count": 3,
   "metadata": {},
   "outputs": [
    {
     "data": {
      "text/plain": [
       "((1143,),\n",
       " array(['LA1T-4', 'LA2T-4', 'LA3T-4', ..., 'RY16T4', 'RY17T4', 'RY18T4'],\n",
       "       dtype='<U10'))"
      ]
     },
     "execution_count": 3,
     "metadata": {},
     "output_type": "execute_result"
    }
   ],
   "source": [
    "feat_names.shape, feat_names"
   ]
  },
  {
   "cell_type": "code",
   "execution_count": 4,
   "metadata": {},
   "outputs": [
    {
     "data": {
      "text/plain": [
       "((29985, 1143),\n",
       " array([[2.22035436, 2.73808935, 2.85690161, ..., 2.28213407, 2.23484694,\n",
       "         2.50348484],\n",
       "        [2.39475793, 2.70724067, 3.01786318, ..., 2.22221548, 2.12541089,\n",
       "         2.29082713],\n",
       "        [3.09624351, 2.53434615, 3.6592359 , ..., 1.71764827, 1.90184825,\n",
       "         2.20471851],\n",
       "        ...,\n",
       "        [3.76667065, 4.63441642, 3.11929308, ..., 1.80788637, 1.80156889,\n",
       "         1.84713761],\n",
       "        [4.70409778, 5.3055984 , 4.08358972, ..., 2.08685748, 1.88474034,\n",
       "         1.56583664],\n",
       "        [4.27104025, 4.65082878, 4.04495683, ..., 2.24784711, 1.85314419,\n",
       "         1.33188024]]))"
      ]
     },
     "execution_count": 4,
     "metadata": {},
     "output_type": "execute_result"
    }
   ],
   "source": [
    "feat.shape, feat"
   ]
  },
  {
   "cell_type": "code",
   "execution_count": 5,
   "metadata": {},
   "outputs": [
    {
     "data": {
      "text/plain": [
       "((29985,),\n",
       " array([b'helft', b'helft', b'helft', ..., b'', b'', b''], dtype='|S15'))"
      ]
     },
     "execution_count": 5,
     "metadata": {},
     "output_type": "execute_result"
    }
   ],
   "source": [
    "procWords.shape, procWords"
   ]
  },
  {
   "cell_type": "code",
   "execution_count": 6,
   "metadata": {},
   "outputs": [
    {
     "data": {
      "text/plain": [
       "((29985, 23),\n",
       " array([[5.95466553, 6.24846425, 4.60056276, ..., 3.77192125, 3.57516962,\n",
       "         2.32016396],\n",
       "        [4.33127521, 4.95030134, 4.144538  , ..., 3.64040874, 3.5326195 ,\n",
       "         2.26556803],\n",
       "        [3.54028936, 3.56204015, 2.92436603, ..., 3.55402837, 3.38445636,\n",
       "         2.26556251],\n",
       "        ...,\n",
       "        [4.89538705, 6.15572827, 4.73888373, ..., 3.47314754, 3.4850776 ,\n",
       "         2.25581884],\n",
       "        [4.65592383, 5.72229074, 4.56151865, ..., 3.63574819, 3.57173073,\n",
       "         2.33057901],\n",
       "        [4.00261221, 5.42908316, 4.48211494, ..., 3.6874546 , 3.57989903,\n",
       "         2.34763538]]))"
      ]
     },
     "execution_count": 6,
     "metadata": {},
     "output_type": "execute_result"
    }
   ],
   "source": [
    "spec.shape, spec"
   ]
  },
  {
   "cell_type": "code",
   "execution_count": 7,
   "metadata": {},
   "outputs": [
    {
     "data": {
      "text/plain": [
       "(16000, array([ 3,  1, -1, ...,  0, -1,  0], dtype=int16))"
      ]
     },
     "execution_count": 7,
     "metadata": {},
     "output_type": "execute_result"
    }
   ],
   "source": [
    "sample_rate, orig_audio "
   ]
  },
  {
   "cell_type": "code",
   "execution_count": null,
   "metadata": {},
   "outputs": [],
   "source": [
    "import scipy.io.wavfile as wavfile\n",
    "from spect2speech import createAudio\n",
    "\n",
    "\n",
    "pt = '01'\n",
    "output_folder = os.path.join('.','outputs','synthesized_voice')\n",
    "os.makedirs(output_folder, exist_ok=True)\n",
    "\n",
    "spectrogram_path  = os.path.join('data', 'features', f'sub-{pt}_spec.npy')\n",
    "spectrogram = np.load(spectrogram_path) \n",
    "audiosr=16000\n",
    "winLength=0.05\n",
    "frameshift=0.01\n",
    "\n",
    "origWav = createAudio(spectrogram,audiosr=audiosr,winLength=winLength,frameshift=frameshift)\n",
    "wavfile.write(os.path.join('synthesized_outputs',f'{pt}_orig_synthesized.wav'),int(audiosr),origWav)"
   ]
  }
 ],
 "metadata": {
  "kernelspec": {
   "display_name": "aut",
   "language": "python",
   "name": "python3"
  },
  "language_info": {
   "codemirror_mode": {
    "name": "ipython",
    "version": 3
   },
   "file_extension": ".py",
   "mimetype": "text/x-python",
   "name": "python",
   "nbconvert_exporter": "python",
   "pygments_lexer": "ipython3",
   "version": "3.11.7"
  }
 },
 "nbformat": 4,
 "nbformat_minor": 2
}
